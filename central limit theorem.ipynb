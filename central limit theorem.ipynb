{
 "cells": [
  {
   "cell_type": "code",
   "execution_count": 19,
   "metadata": {},
   "outputs": [],
   "source": [
    "from numpy.random import randint\n",
    "from numpy.random import seed\n",
    "from numpy import mean\n",
    "from matplotlib import pyplot as plt\n",
    "rolls = randint(1,7,50)"
   ]
  },
  {
   "cell_type": "code",
   "execution_count": 20,
   "metadata": {},
   "outputs": [
    {
     "name": "stdout",
     "output_type": "stream",
     "text": [
      "[1 3 5 4 5 4 6 2 3 1 5 6 1 6 1 6 4 5 5 2 1 1 4 1 2 1 3 6 3 4 6 5 3 3 5 6 2\n",
      " 6 4 4 3 2 5 5 5 6 4 2 1 2]\n",
      "3.6\n"
     ]
    }
   ],
   "source": [
    "print (rolls)\n",
    "print(mean(rolls))"
   ]
  },
  {
   "cell_type": "code",
   "execution_count": 30,
   "metadata": {},
   "outputs": [],
   "source": [
    "means =[]\n",
    "seed(1)\n",
    "for i in range(100):\n",
    "    means.append(mean(randint(1,7,50)))\n",
    "    \n"
   ]
  },
  {
   "cell_type": "code",
   "execution_count": 31,
   "metadata": {},
   "outputs": [
    {
     "name": "stdout",
     "output_type": "stream",
     "text": [
      "[3.44, 3.32, 3.44, 3.62, 3.68, 3.24, 3.84, 3.36, 3.36, 3.4, 3.76, 3.9, 3.46, 3.52, 2.98, 3.62, 3.36, 3.5, 3.34, 3.66, 3.58, 3.84, 3.76, 3.52, 3.52, 3.34, 3.18, 3.58, 3.64, 3.46, 3.38, 3.34, 2.9, 3.86, 3.58, 3.34, 3.68, 3.44, 3.88, 3.18, 3.68, 3.24, 3.36, 3.66, 3.72, 3.72, 3.34, 3.54, 3.64, 3.06, 3.48, 3.48, 3.46, 3.52, 3.48, 3.54, 3.56, 3.32, 3.06, 3.84, 3.64, 3.44, 3.08, 3.92, 3.12, 3.6, 3.46, 3.8, 3.38, 3.72, 3.1, 3.5, 3.38, 3.52, 3.16, 3.98, 3.92, 3.84, 3.8, 3.72, 3.62, 3.72, 3.72, 3.54, 3.92, 2.88, 3.32, 3.56, 3.44, 3.86, 3.56, 3.56, 3.6, 3.1, 3.76, 3.68, 3.48, 3.26, 3.6, 3.52]\n"
     ]
    }
   ],
   "source": [
    "print(means)"
   ]
  },
  {
   "cell_type": "code",
   "execution_count": 32,
   "metadata": {},
   "outputs": [
    {
     "data": {
      "image/png": "[encoded data removed]",
      "text/plain": [
       "<matplotlib.figure.Figure at 0x244d439ac88>"
      ]
     },
     "metadata": {},
     "output_type": "display_data"
    }
   ],
   "source": [
    "plt.hist(means)\n",
    "plt.show()"
   ]
  },
  {
   "cell_type": "markdown",
   "metadata": {},
   "source": [
    "# as we increase sample numbeers sample distribution of sample mean approximates more to normal distribution"
   ]
  },
  {
   "cell_type": "code",
   "execution_count": 36,
   "metadata": {},
   "outputs": [
    {
     "data": {
      "image/png": "[encoded data removed]",
      "text/plain": [
       "<matplotlib.figure.Figure at 0x244d4500278>"
      ]
     },
     "metadata": {},
     "output_type": "display_data"
    }
   ],
   "source": [
    "means =[]\n",
    "seed(1)\n",
    "for i in range(1000):\n",
    "    means.append(mean(randint(1,7,50)))\n",
    "    \n",
    "#print(means)\n",
    "plt.hist(means)\n",
    "plt.show()"
   ]
  },
  {
   "cell_type": "code",
   "execution_count": null,
   "metadata": {},
   "outputs": [],
   "source": []
  },
  {
   "cell_type": "code",
   "execution_count": null,
   "metadata": {},
   "outputs": [],
   "source": []
  }
 ],
 "metadata": {
  "kernelspec": {
   "display_name": "Python 3",
   "language": "python",
   "name": "python3"
  },
  "language_info": {
   "codemirror_mode": {
    "name": "ipython",
    "version": 3
   },
   "file_extension": ".py",
   "mimetype": "text/x-python",
   "name": "python",
   "nbconvert_exporter": "python",
   "pygments_lexer": "ipython3",
   "version": "3.6.4"
  }
 },
 "nbformat": 4,
 "nbformat_minor": 2
}
